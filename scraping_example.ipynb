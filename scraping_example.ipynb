{
 "cells": [
  {
   "cell_type": "code",
   "execution_count": null,
   "id": "ca0443f0",
   "metadata": {},
   "outputs": [],
   "source": [
    "# Getting html of Wikipedia Article of Billie Eilish Songs\n",
    "\n",
    "import requests\n",
    "from bs4 import BeautifulSoup\n",
    "\n",
    "url = \"https://en.wikipedia.org/wiki/List_of_songs_recorded_by_Billie_Eilish\"\n",
    "req = requests.get(url)\n",
    "soup = BeautifulSoup(req.content, 'html.parser')\n",
    "print(soup.prettify())"
   ]
  },
  {
   "cell_type": "code",
   "execution_count": null,
   "id": "f809313b",
   "metadata": {},
   "outputs": [],
   "source": [
    "# Converting html into Pandas DataFrame\n",
    "\n",
    "import pandas as pd\n",
    "\n",
    "table = soup.findAll('table')[1]\n",
    "\n",
    "df = pd.read_html(str(table))[0]"
   ]
  },
  {
   "cell_type": "code",
   "execution_count": null,
   "id": "a3342e92",
   "metadata": {},
   "outputs": [],
   "source": [
    "df.head()"
   ]
  },
  {
   "cell_type": "code",
   "execution_count": null,
   "id": "05b52c23",
   "metadata": {},
   "outputs": [],
   "source": [
    "# Processing Song Names\n",
    "\n",
    "import re\n",
    "\n",
    "def btwn_quotes(text):\n",
    "    return re.search('\"(.*)\"', text).group(1)\n",
    "\n",
    "df['song_name'] = df['Song'].apply(btwn_quotes)\n",
    "df.head()"
   ]
  },
  {
   "cell_type": "code",
   "execution_count": null,
   "id": "9bc07514",
   "metadata": {},
   "outputs": [],
   "source": [
    "# Setting up Genius Lyrics API\n",
    "\n",
    "import lyricsgenius as lg\n",
    "\n",
    "api_key = \"EgYn5CGeN0D6qo_VUhB7T55jpxYrKAtBje7__rE4g8ViVigZ6my2ygsiGKAm0CP5\"\n",
    "genius = lg.Genius(api_key, timeout=120)\n",
    "\n",
    "genius.verbose = False"
   ]
  },
  {
   "cell_type": "code",
   "execution_count": null,
   "id": "e8662812",
   "metadata": {},
   "outputs": [],
   "source": [
    "# Getting Lyrics Using Genius API\n",
    "\n",
    "from tqdm import tqdm\n",
    "import concurrent.futures\n",
    "import numpy as np\n",
    "import swifter\n",
    "\n",
    "\n",
    "def get_lyrics(song_name):\n",
    "    artist_name = 'Billie Eilish'\n",
    "    \n",
    "    try:\n",
    "        song = genius.search_song(title=song_name, artist=artist_name, get_full_info=False)\n",
    "        return song.lyrics\n",
    "    except:\n",
    "        return np.nan\n",
    "\n",
    "lyrics = []\n",
    "for song in tqdm(df['song_name']):\n",
    "    lyrics += [get_lyrics(song)]\n",
    "\n",
    "df['lyrics'] = lyrics\n",
    "df.head()"
   ]
  },
  {
   "cell_type": "code",
   "execution_count": null,
   "id": "acf574a9",
   "metadata": {},
   "outputs": [],
   "source": [
    "df['lyrics'][0]"
   ]
  },
  {
   "cell_type": "code",
   "execution_count": null,
   "id": "8d077870",
   "metadata": {},
   "outputs": [],
   "source": [
    "# Processing Lyrics Scraped from Genius\n",
    "\n",
    "from gensim.utils import simple_preprocess\n",
    "\n",
    "def pre_process(lyric):\n",
    "    lyric = re.sub('\\n', ' ', lyric)\n",
    "    lyric = re.sub(\"[\\(\\[].*?[\\)\\]]\", \" \", lyric)\n",
    "    lyric = re.search('Lyrics (.*)Embed', lyric).group(1)\n",
    "    return ' '.join(simple_preprocess(lyric, min_len=0))\n",
    "\n",
    "df['lyrics_pre'] = df['lyrics'].swifter.apply(pre_process)\n",
    "df.head()"
   ]
  },
  {
   "cell_type": "code",
   "execution_count": null,
   "id": "52d037db",
   "metadata": {},
   "outputs": [],
   "source": [
    "# Setting up Pre-Trained Sentiment Analyzer\n",
    "\n",
    "import nltk\n",
    "nltk.download('vader_lexicon')\n",
    "\n",
    "from nltk.sentiment import SentimentIntensityAnalyzer\n",
    "sia = SentimentIntensityAnalyzer()"
   ]
  },
  {
   "cell_type": "code",
   "execution_count": null,
   "id": "681af826",
   "metadata": {},
   "outputs": [],
   "source": [
    "# Calculating sentiment scores for each song\n",
    "\n",
    "def get_sentiment(text):\n",
    "    return sia.polarity_scores(text)['compound']\n",
    "\n",
    "# get_sentiment(df['lyrics'][1])\n",
    "df['sentiment'] = df['lyrics_pre'].apply(get_sentiment)\n",
    "df.head()"
   ]
  },
  {
   "cell_type": "code",
   "execution_count": null,
   "id": "dc01ff64",
   "metadata": {},
   "outputs": [],
   "source": [
    "# Setting up Spotify API\n",
    "\n",
    "import spotipy\n",
    "from spotipy.oauth2 import SpotifyClientCredentials\n",
    "\n",
    "client_id='0fb4cbdccb814eabb3654bcadc5706a3'\n",
    "client_secret='b4ed60eeaf324ccbb557e0a196938be2'\n",
    "\n",
    "client_credentials_manager = SpotifyClientCredentials(client_id=client_id, client_secret=client_secret)\n",
    "sp = spotipy.Spotify(client_credentials_manager=client_credentials_manager) #spotify object to access API"
   ]
  },
  {
   "cell_type": "code",
   "execution_count": null,
   "id": "6e650bda",
   "metadata": {},
   "outputs": [],
   "source": [
    "# Getting valence scores for each song\n",
    "\n",
    "def get_valence(song_name):\n",
    "    try:\n",
    "        artist_name = 'Billie Eilish'\n",
    "        search = sp.search(q='artist:' + artist_name + ' track:' + song_name, type='track')\n",
    "        uri = search['tracks']['items'][0]['uri']\n",
    "\n",
    "        features = sp.audio_features(uri)\n",
    "        return features[0]['valence']\n",
    "    except:\n",
    "        return np.nan\n",
    "\n",
    "tqdm.pandas()\n",
    "df['valence'] = df['song_name'].progress_apply(get_valence)\n",
    "# get_valence('&burn')\n"
   ]
  },
  {
   "cell_type": "code",
   "execution_count": null,
   "id": "fdb1e42b",
   "metadata": {},
   "outputs": [],
   "source": [
    "df.head()"
   ]
  },
  {
   "cell_type": "code",
   "execution_count": null,
   "id": "3f1ae856",
   "metadata": {},
   "outputs": [],
   "source": [
    "# Aggregating sentiment and valence by year\n",
    "\n",
    "agg_funcs = dict(sentiment='mean', valence='mean')\n",
    "graph_df = df.groupby(by='Year').agg(agg_funcs)\n",
    "graph_df.head(10)"
   ]
  },
  {
   "cell_type": "code",
   "execution_count": null,
   "id": "ead0d9fe",
   "metadata": {},
   "outputs": [],
   "source": [
    "# Graphing sentiment and valence per year\n",
    "\n",
    "import matplotlib.pyplot as plt\n",
    "import seaborn as sns\n",
    "\n",
    "sns.set(rc={'figure.figsize':(16,8)})\n",
    "sns.set_theme(style=\"whitegrid\")\n",
    "\n",
    "plt.xticks(range(2016,2022))\n",
    "sns.lineplot(data=graph_df, palette=['Blue', 'Green'])"
   ]
  }
 ],
 "metadata": {
  "kernelspec": {
   "display_name": "Python 3 (ipykernel)",
   "language": "python",
   "name": "python3"
  },
  "language_info": {
   "codemirror_mode": {
    "name": "ipython",
    "version": 3
   },
   "file_extension": ".py",
   "mimetype": "text/x-python",
   "name": "python",
   "nbconvert_exporter": "python",
   "pygments_lexer": "ipython3",
   "version": "3.7.4"
  }
 },
 "nbformat": 4,
 "nbformat_minor": 5
}
